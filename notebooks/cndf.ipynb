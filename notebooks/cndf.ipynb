{
 "cells": [
  {
   "cell_type": "code",
   "execution_count": 2,
   "metadata": {},
   "outputs": [],
   "source": [
    "import cv2\n",
    "import numpy as np\n",
    "import pytesseract"
   ]
  },
  {
   "cell_type": "code",
   "execution_count": 3,
   "metadata": {},
   "outputs": [],
   "source": [
    "image = cv2.imread('/home/joaolevi/projects/ocr/images/CNDF/616.png')\n",
    "gray = cv2.cvtColor(image, cv2.COLOR_BGR2GRAY)"
   ]
  },
  {
   "cell_type": "code",
   "execution_count": 5,
   "metadata": {},
   "outputs": [
    {
     "name": "stdout",
     "output_type": "stream",
     "text": [
      "Firefox\n",
      "\n",
      "lofl\n",
      "\n",
      "http://servicos.receita.fazenda.gov.br/Servicos/certidao/CndConjuntalnte...\n",
      "\n",
      "MINISTÉRIO DA FAZENDA\n",
      "Secretaria da Receita Federal do Brasil\n",
      "Procuradoria-Geral da Fazenda Nacional\n",
      "\n",
      "CERTIDÃO NEGATIVA DE DÉBITOS RELATIVOS AOS TRIBUTOS FEDERAIS E À DÍVIDA ATIVA\n",
      "DA UNIÃO\n",
      "\n",
      "Nome: BS REFEICOES COLETIVAS LTDA\n",
      "CNPJ: 04.769.517/0001-09\n",
      "\n",
      "Ressalvado o direito de a Fazenda Nacional cobrar e inscrever quaisquer dívidas de\n",
      "responsabilidade do sujeito passivo acima identificado que vierem a ser apuradas, é certificado que\n",
      "não constam pendências em seu nome, relativas a créditos tributários administrados pela Secretaria\n",
      "da Receita Federal do Brasil (RFB) e a inscrições em Dívida Ativa da União (DAU) junto à\n",
      "Procuradoria-Geral da Fazenda Nacional (PGFN).\n",
      "\n",
      "Esta certidão é válida para o estabelecimento matriz e suas filiais e, no caso de ente federativo, para\n",
      "todos os órgãos e fundos públicos da administração direta a ele vinculados. Refere-se à situação do\n",
      "sujeito passivo no âmbito da RFB e da PGFN e abrange inclusive as contribuições sociais previstas\n",
      "nas alíneas 'a' a 'd' do parágrafo único do art. 11 da Lei nº 8.212, de 24 de julho de 1991.\n",
      "\n",
      "A aceitação desta certidão está condicionada à verificação de sua autenticidade na Internet, nos\n",
      "endereços <http://rfb.gov.br> ou <http://www.pgfn.gov.br>.\n",
      "\n",
      "Certidão emitida gratuitamente com base na Portaria Conjunta RFB/PGFN nº 1.751, de 2/10/2014.\n",
      "Emitida às 10:00:00 do dia 08/04/2021 <hora e data de Brasília>.\n",
      "\n",
      "Válida até 05/10/2021.\n",
      "\n",
      "Código de controle da certidão: 7637.1262.FF22.D396\n",
      "\n",
      "Qualquer rasura ou emenda invalidará este documento.\n",
      "\n",
      "08/04/2021 09:01\n",
      "\f\n"
     ]
    }
   ],
   "source": [
    "def extract_text(image):\n",
    "    text = \"\"\n",
    "    text = pytesseract.image_to_string(image, lang='por')\n",
    "    return text\n",
    "texto = extract_text(gray)\n",
    "print(texto)"
   ]
  },
  {
   "cell_type": "code",
   "execution_count": 6,
   "metadata": {},
   "outputs": [
    {
     "name": "stdout",
     "output_type": "stream",
     "text": [
      "7637.1262.FF22.D396\n"
     ]
    }
   ],
   "source": [
    "import re\n",
    "\n",
    "padrao_codigo_certidao = r'([A-Z0-9]+\\.[A-Z0-9]+\\.[A-Z0-9]+\\.[A-Z0-9]+)'\n",
    "\n",
    "codigo_certidao = re.search(padrao_codigo_certidao, texto)\n",
    "if codigo_certidao:\n",
    "    print(codigo_certidao.group(0))"
   ]
  }
 ],
 "metadata": {
  "kernelspec": {
   "display_name": "Python 3 (ipykernel)",
   "language": "python",
   "name": "python3"
  },
  "language_info": {
   "codemirror_mode": {
    "name": "ipython",
    "version": 3
   },
   "file_extension": ".py",
   "mimetype": "text/x-python",
   "name": "python",
   "nbconvert_exporter": "python",
   "pygments_lexer": "ipython3",
   "version": "3.8.10"
  }
 },
 "nbformat": 4,
 "nbformat_minor": 2
}
